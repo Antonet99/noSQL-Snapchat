{
 "cells": [
  {
   "cell_type": "code",
   "execution_count": 1,
   "metadata": {},
   "outputs": [],
   "source": [
    "import random\n",
    "import json\n",
    "import datetime\n",
    "import string"
   ]
  },
  {
   "cell_type": "code",
   "execution_count": 11,
   "metadata": {},
   "outputs": [],
   "source": [
    "USERS_NUMBER = 100\n",
    "MAX_SNAPS_NUMBERS = 10\n",
    "STICKER_NUMBER = 1000\n",
    "\n",
    "names = open('names.txt').read().splitlines()\n",
    "words = open('words.txt').read().splitlines()"
   ]
  },
  {
   "cell_type": "code",
   "execution_count": 8,
   "metadata": {},
   "outputs": [],
   "source": [
    "def generate_user():\n",
    "    users_array = []\n",
    "    for i in range(USERS_NUMBER):\n",
    "        name = random.choice(names)\n",
    "        users_array.append({\n",
    "            \"username\": f\"User{i}\",\n",
    "            \"Anagrafica\": {\n",
    "                \"FirstName\": name,\n",
    "                \"LastName\": random.choice(names), #da rimuovere\n",
    "                \"email\": f\"{name}.{i}@email.com\",\n",
    "                \"snapCode\": ''.join(random.choices(string.digits, k=8)),\n",
    "                \"password\": f\"password_{name}\",\n",
    "                \"genre\": random.choice([\"male\", \"female\", \"other\"]),\n",
    "                \"phoneNumber\": \"\",\n",
    "                \"birthday\": \"\"\n",
    "            },\n",
    "            \"BusinessInfo\": {\n",
    "                \"isBusiness\": random.choice([True, False]),\n",
    "                \"BusinessImage\": \"\",\n",
    "                \"BusinessName\": \"\",\n",
    "                \"BusinessAddress\": \"\",\n",
    "            },\n",
    "            \"nSnaps\": random.randint(0, MAX_SNAPS_NUMBERS),\n",
    "            \"ownSnaps\": [],\n",
    "            \"LatestOwnSnaps\": [],\n",
    "            \"hasAvatar\": random.choice([True, False]),\n",
    "            \"Notify\": [],\n",
    "            \"Friends\": [],\n",
    "            \"CloseFriends\": [],\n",
    "            \"Followed\": [],\n",
    "            \"Blocked\": []\n",
    "        }) \n",
    "        \n",
    "    with open('output/user.json', 'w') as outfile:\n",
    "        json.dump(users_array, outfile, indent=4)\n",
    "\n",
    "generate_user()\n"
   ]
  },
  {
   "cell_type": "code",
   "execution_count": 12,
   "metadata": {},
   "outputs": [],
   "source": [
    "def generate_sticker():\n",
    "    sticker_array = []\n",
    "    for i in range(STICKER_NUMBER):\n",
    "        sticker_array.append({\n",
    "            \"idSticker\": f'Sticker{i}',\n",
    "            \"text\": random.choice(words),\n",
    "            \"media\": \"\",\n",
    "            \"idAvatar\": random.randint(0,USERS_NUMBER),\n",
    "        })\n",
    "\n",
    "    with open('output/sticker.json', 'w') as outfile:\n",
    "        json.dump(sticker_array, outfile, indent=4)\n",
    "\n",
    "generate_sticker()"
   ]
  }
 ],
 "metadata": {
  "kernelspec": {
   "display_name": "Python 3",
   "language": "python",
   "name": "python3"
  },
  "language_info": {
   "codemirror_mode": {
    "name": "ipython",
    "version": 3
   },
   "file_extension": ".py",
   "mimetype": "text/x-python",
   "name": "python",
   "nbconvert_exporter": "python",
   "pygments_lexer": "ipython3",
   "version": "3.10.13"
  }
 },
 "nbformat": 4,
 "nbformat_minor": 2
}
