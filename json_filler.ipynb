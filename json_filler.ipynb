{
 "cells": [
  {
   "cell_type": "code",
   "execution_count": 24,
   "metadata": {},
   "outputs": [],
   "source": [
    "import random\n",
    "import json\n",
    "\n",
    "# Carica la lista degli utenti da user.json\n",
    "with open('output/user.json', 'r') as user_file:\n",
    "    users = json.load(user_file)\n",
    "\n",
    "# Estrai solo i nomi utente dalla struttura degli utenti\n",
    "usernames = [user[\"username\"] for user in users]\n",
    "\n",
    "# Crea una lista di chat\n",
    "chats = []\n",
    "\n",
    "# Crea chat tra le coppie di utenti\n",
    "chat_count = 100  # Numero totale di chat desiderate\n",
    "for i in range(chat_count):\n",
    "    # Scegli casualmente due utenti distinti\n",
    "    user1, user2 = random.sample(usernames, 2)\n",
    "    \n",
    "    # Genera un idChat unico per questa chat (puoi personalizzare questa parte)\n",
    "    chat_id = f'C{i}'\n",
    "    \n",
    "    # Genera alcuni messaggi casuali tra gli utenti\n",
    "    messages = []\n",
    "    message_count = random.randint(1, 10)  # Numero casuale di messaggi\n",
    "    for _ in range(message_count):\n",
    "        sender, receiver = random.choice([user1, user2]), random.choice([user1, user2])\n",
    "        message = {\n",
    "            \"User\": sender,\n",
    "            \"content\": {\n",
    "                \"text\": \"Messaggio casuale\",\n",
    "                \"timestamp\": datetime.datetime.now().timestamp()\n",
    "            }\n",
    "        }\n",
    "        messages.append(message)\n",
    "\n",
    "    \n",
    "    # Trova il timestamp dell'ultimo messaggio\n",
    "    last_message_timestamp = max(message[\"content\"][\"timestamp\"] for message in messages)\n",
    "\n",
    "    # Crea la chat\n",
    "    chat = {\n",
    "        \"idChat\": chat_id,\n",
    "        \"Users\": [user1, user2],\n",
    "        \"Messages\": messages,\n",
    "        \"Timestamp\": last_message_timestamp\n",
    "    }\n",
    "\n",
    "    chats.append(chat)\n",
    "\n",
    "        \n",
    "# Salva le chat generate in un file JSON\n",
    "with open('prova/chats.json', 'w') as chat_file:\n",
    "    json.dump(chats, chat_file, indent=4)\n"
   ]
  },
  {
   "cell_type": "code",
   "execution_count": 10,
   "metadata": {},
   "outputs": [
    {
     "ename": "TypeError",
     "evalue": "list indices must be integers or slices, not str",
     "output_type": "error",
     "traceback": [
      "\u001b[0;31m---------------------------------------------------------------------------\u001b[0m",
      "\u001b[0;31mTypeError\u001b[0m                                 Traceback (most recent call last)",
      "\u001b[1;32m/Users/antoniobaio/Desktop/Progetti/NGD-2023/json_filler.ipynb Cella 2\u001b[0m line \u001b[0;36m4\n\u001b[1;32m      <a href='vscode-notebook-cell:/Users/antoniobaio/Desktop/Progetti/NGD-2023/json_filler.ipynb#W4sZmlsZQ%3D%3D?line=0'>1</a>\u001b[0m user_file \u001b[39m=\u001b[39m \u001b[39mopen\u001b[39m(\u001b[39m'\u001b[39m\u001b[39moutput/user.json\u001b[39m\u001b[39m'\u001b[39m)\n\u001b[1;32m      <a href='vscode-notebook-cell:/Users/antoniobaio/Desktop/Progetti/NGD-2023/json_filler.ipynb#W4sZmlsZQ%3D%3D?line=1'>2</a>\u001b[0m users_array \u001b[39m=\u001b[39m json\u001b[39m.\u001b[39mload(user_file)\n\u001b[0;32m----> <a href='vscode-notebook-cell:/Users/antoniobaio/Desktop/Progetti/NGD-2023/json_filler.ipynb#W4sZmlsZQ%3D%3D?line=3'>4</a>\u001b[0m user1, user2 \u001b[39m=\u001b[39m random\u001b[39m.\u001b[39mchoice(users_array[\u001b[39m\"\u001b[39;49m\u001b[39musername\u001b[39;49m\u001b[39m\"\u001b[39;49m], \u001b[39m2\u001b[39m)\n",
      "\u001b[0;31mTypeError\u001b[0m: list indices must be integers or slices, not str"
     ]
    }
   ],
   "source": [
    "user_file = open('output/user.json')\n",
    "users_array = json.load(user_file)\n",
    "\n",
    "user1, user2 = random.choice(users_array[\"username\"], 2)"
   ]
  },
  {
   "cell_type": "code",
   "execution_count": null,
   "metadata": {},
   "outputs": [],
   "source": []
  }
 ],
 "metadata": {
  "kernelspec": {
   "display_name": "Python 3",
   "language": "python",
   "name": "python3"
  },
  "language_info": {
   "codemirror_mode": {
    "name": "ipython",
    "version": 3
   },
   "file_extension": ".py",
   "mimetype": "text/x-python",
   "name": "python",
   "nbconvert_exporter": "python",
   "pygments_lexer": "ipython3",
   "version": "3.10.13"
  }
 },
 "nbformat": 4,
 "nbformat_minor": 2
}
